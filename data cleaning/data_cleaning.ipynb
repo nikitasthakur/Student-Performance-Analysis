{
 "cells": [
  {
   "cell_type": "code",
   "execution_count": 1,
   "metadata": {},
   "outputs": [],
   "source": [
    "import numpy as np\n",
    "import pandas as pd\n",
    "import os\n",
    "import hashlib\n",
    "import matplotlib.pyplot as plt\n",
    "# Get the path of current working directory\n",
    "path = os.getcwd()"
   ]
  },
  {
   "cell_type": "code",
   "execution_count": 2,
   "metadata": {},
   "outputs": [],
   "source": [
    "topic1_scores = pd.read_csv(path + '\\\\data\\\\topic_1_final_scores.csv')\n",
    "topic1_all = pd.read_csv(path + '\\\\data\\\\topic_1_all.csv')\n",
    "summary = pd.read_csv(path + '\\\\data\\\\all_activities.csv')"
   ]
  },
  {
   "cell_type": "code",
   "execution_count": 3,
   "metadata": {},
   "outputs": [],
   "source": [
    "# summary['studentID_encoded'] = [hashlib.sha256(str(val).encode('UTF-8')).hexdigest() for val in summary['Student ID']]\n",
    "# topic1_all['studentID_encoded'] = [hashlib.sha256(str(val).encode('UTF-8')).hexdigest() for val in topic1_all['Student ID']]\n",
    "# topic1_scores['studentID_encoded'] = [hashlib.sha256(str(val).encode('UTF-8')).hexdigest() for val in topic1_scores['Student ID']]"
   ]
  },
  {
   "cell_type": "code",
   "execution_count": 4,
   "metadata": {},
   "outputs": [
    {
     "data": {
      "text/html": [
       "<div>\n",
       "<style scoped>\n",
       "    .dataframe tbody tr th:only-of-type {\n",
       "        vertical-align: middle;\n",
       "    }\n",
       "\n",
       "    .dataframe tbody tr th {\n",
       "        vertical-align: top;\n",
       "    }\n",
       "\n",
       "    .dataframe thead th {\n",
       "        text-align: right;\n",
       "    }\n",
       "</style>\n",
       "<table border=\"1\" class=\"dataframe\">\n",
       "  <thead>\n",
       "    <tr style=\"text-align: right;\">\n",
       "      <th></th>\n",
       "      <th>Last name</th>\n",
       "      <th>First name</th>\n",
       "      <th>Primary email</th>\n",
       "      <th>School email</th>\n",
       "      <th>Student ID</th>\n",
       "      <th>Activity 1 (49)</th>\n",
       "      <th>Activity 2 (28)</th>\n",
       "      <th>Activity 3 (77)</th>\n",
       "      <th>Activity 4 (32)</th>\n",
       "      <th>Activity 5 (6)</th>\n",
       "      <th>...</th>\n",
       "      <th>Activity 20 (47)</th>\n",
       "      <th>Activity 21 (159)</th>\n",
       "      <th>Activity 22 (99)</th>\n",
       "      <th>Activity 23 (45)</th>\n",
       "      <th>Activity 24 (51)</th>\n",
       "      <th>Optional Activity 1 (21)</th>\n",
       "      <th>Optional Activity 2 (78)</th>\n",
       "      <th>Optional Activity 3 (58)</th>\n",
       "      <th>Fake_First name</th>\n",
       "      <th>Fake_Student ID</th>\n",
       "    </tr>\n",
       "  </thead>\n",
       "  <tbody>\n",
       "    <tr>\n",
       "      <th>0</th>\n",
       "      <td>Abdelrahim</td>\n",
       "      <td>Fatin</td>\n",
       "      <td>fabdel7@uic.edu</td>\n",
       "      <td>fabdel7@uic.edu</td>\n",
       "      <td>660956982</td>\n",
       "      <td>100.00</td>\n",
       "      <td>100.0</td>\n",
       "      <td>100.00</td>\n",
       "      <td>100.0</td>\n",
       "      <td>100</td>\n",
       "      <td>...</td>\n",
       "      <td>100.00</td>\n",
       "      <td>83.65</td>\n",
       "      <td>100.0</td>\n",
       "      <td>100.00</td>\n",
       "      <td>100.00</td>\n",
       "      <td>0.0</td>\n",
       "      <td>0.0</td>\n",
       "      <td>0.0</td>\n",
       "      <td>Ben Williams</td>\n",
       "      <td>KXVB73254113496858</td>\n",
       "    </tr>\n",
       "    <tr>\n",
       "      <th>1</th>\n",
       "      <td>Abdullah</td>\n",
       "      <td>Mohammed</td>\n",
       "      <td>mlnu21@uic.edu</td>\n",
       "      <td>mlnu21@uic.edu</td>\n",
       "      <td>662305829</td>\n",
       "      <td>87.76</td>\n",
       "      <td>100.0</td>\n",
       "      <td>100.00</td>\n",
       "      <td>100.0</td>\n",
       "      <td>100</td>\n",
       "      <td>...</td>\n",
       "      <td>100.00</td>\n",
       "      <td>93.71</td>\n",
       "      <td>100.0</td>\n",
       "      <td>100.00</td>\n",
       "      <td>100.00</td>\n",
       "      <td>0.0</td>\n",
       "      <td>0.0</td>\n",
       "      <td>0.0</td>\n",
       "      <td>Timothy Duffy</td>\n",
       "      <td>PQTQ88668307767986</td>\n",
       "    </tr>\n",
       "    <tr>\n",
       "      <th>2</th>\n",
       "      <td>Abebe</td>\n",
       "      <td>Natnael</td>\n",
       "      <td>nabebe3@uic.edu</td>\n",
       "      <td>nabebe3@uic.edu</td>\n",
       "      <td>655021425</td>\n",
       "      <td>95.92</td>\n",
       "      <td>100.0</td>\n",
       "      <td>93.51</td>\n",
       "      <td>100.0</td>\n",
       "      <td>100</td>\n",
       "      <td>...</td>\n",
       "      <td>95.74</td>\n",
       "      <td>82.39</td>\n",
       "      <td>100.0</td>\n",
       "      <td>100.00</td>\n",
       "      <td>96.08</td>\n",
       "      <td>0.0</td>\n",
       "      <td>0.0</td>\n",
       "      <td>0.0</td>\n",
       "      <td>Wendy Allen</td>\n",
       "      <td>ZGDE91932615306554</td>\n",
       "    </tr>\n",
       "    <tr>\n",
       "      <th>3</th>\n",
       "      <td>agarwal</td>\n",
       "      <td>ishi</td>\n",
       "      <td>iagarw5@uic.edu</td>\n",
       "      <td>iagarw5@uic.edu</td>\n",
       "      <td>673172436</td>\n",
       "      <td>100.00</td>\n",
       "      <td>100.0</td>\n",
       "      <td>100.00</td>\n",
       "      <td>100.0</td>\n",
       "      <td>100</td>\n",
       "      <td>...</td>\n",
       "      <td>100.00</td>\n",
       "      <td>86.79</td>\n",
       "      <td>100.0</td>\n",
       "      <td>100.00</td>\n",
       "      <td>100.00</td>\n",
       "      <td>0.0</td>\n",
       "      <td>0.0</td>\n",
       "      <td>0.0</td>\n",
       "      <td>Laura Cox</td>\n",
       "      <td>TPXH60677864764257</td>\n",
       "    </tr>\n",
       "    <tr>\n",
       "      <th>4</th>\n",
       "      <td>Ahmed</td>\n",
       "      <td>Wasay</td>\n",
       "      <td>ahmedwasay1000@gmail.com</td>\n",
       "      <td>wahmed9@uic.edu</td>\n",
       "      <td>658638024</td>\n",
       "      <td>100.00</td>\n",
       "      <td>100.0</td>\n",
       "      <td>100.00</td>\n",
       "      <td>100.0</td>\n",
       "      <td>100</td>\n",
       "      <td>...</td>\n",
       "      <td>100.00</td>\n",
       "      <td>96.23</td>\n",
       "      <td>100.0</td>\n",
       "      <td>100.00</td>\n",
       "      <td>100.00</td>\n",
       "      <td>0.0</td>\n",
       "      <td>0.0</td>\n",
       "      <td>0.0</td>\n",
       "      <td>Dr Colin Nicholson</td>\n",
       "      <td>QFRE28142312283800</td>\n",
       "    </tr>\n",
       "    <tr>\n",
       "      <th>...</th>\n",
       "      <td>...</td>\n",
       "      <td>...</td>\n",
       "      <td>...</td>\n",
       "      <td>...</td>\n",
       "      <td>...</td>\n",
       "      <td>...</td>\n",
       "      <td>...</td>\n",
       "      <td>...</td>\n",
       "      <td>...</td>\n",
       "      <td>...</td>\n",
       "      <td>...</td>\n",
       "      <td>...</td>\n",
       "      <td>...</td>\n",
       "      <td>...</td>\n",
       "      <td>...</td>\n",
       "      <td>...</td>\n",
       "      <td>...</td>\n",
       "      <td>...</td>\n",
       "      <td>...</td>\n",
       "      <td>...</td>\n",
       "      <td>...</td>\n",
       "    </tr>\n",
       "    <tr>\n",
       "      <th>200</th>\n",
       "      <td>Yuen</td>\n",
       "      <td>Tyler</td>\n",
       "      <td>tyuen8@uic.edu</td>\n",
       "      <td>tyuen8@uic.edu</td>\n",
       "      <td>657214150</td>\n",
       "      <td>100.00</td>\n",
       "      <td>100.0</td>\n",
       "      <td>100.00</td>\n",
       "      <td>100.0</td>\n",
       "      <td>100</td>\n",
       "      <td>...</td>\n",
       "      <td>100.00</td>\n",
       "      <td>97.48</td>\n",
       "      <td>100.0</td>\n",
       "      <td>0.00</td>\n",
       "      <td>100.00</td>\n",
       "      <td>0.0</td>\n",
       "      <td>0.0</td>\n",
       "      <td>0.0</td>\n",
       "      <td>Lorraine Patel-Gilbert</td>\n",
       "      <td>TQRU76315289188115</td>\n",
       "    </tr>\n",
       "    <tr>\n",
       "      <th>201</th>\n",
       "      <td>Zabkowski</td>\n",
       "      <td>Tomasz</td>\n",
       "      <td>tzabko1@uic.edu</td>\n",
       "      <td>tzabko1@uic.edu</td>\n",
       "      <td>679836739</td>\n",
       "      <td>100.00</td>\n",
       "      <td>100.0</td>\n",
       "      <td>48.05</td>\n",
       "      <td>100.0</td>\n",
       "      <td>100</td>\n",
       "      <td>...</td>\n",
       "      <td>100.00</td>\n",
       "      <td>85.53</td>\n",
       "      <td>100.0</td>\n",
       "      <td>100.00</td>\n",
       "      <td>100.00</td>\n",
       "      <td>0.0</td>\n",
       "      <td>0.0</td>\n",
       "      <td>0.0</td>\n",
       "      <td>Owen Williams</td>\n",
       "      <td>HYCL36877357746385</td>\n",
       "    </tr>\n",
       "    <tr>\n",
       "      <th>202</th>\n",
       "      <td>Zhou</td>\n",
       "      <td>Michelle</td>\n",
       "      <td>mzhou43@uic.edu</td>\n",
       "      <td>mzhou43@uic.edu</td>\n",
       "      <td>650940474</td>\n",
       "      <td>100.00</td>\n",
       "      <td>100.0</td>\n",
       "      <td>100.00</td>\n",
       "      <td>100.0</td>\n",
       "      <td>100</td>\n",
       "      <td>...</td>\n",
       "      <td>100.00</td>\n",
       "      <td>88.68</td>\n",
       "      <td>100.0</td>\n",
       "      <td>13.33</td>\n",
       "      <td>100.00</td>\n",
       "      <td>0.0</td>\n",
       "      <td>0.0</td>\n",
       "      <td>0.0</td>\n",
       "      <td>Shane Thompson</td>\n",
       "      <td>VBXM91398341094392</td>\n",
       "    </tr>\n",
       "    <tr>\n",
       "      <th>203</th>\n",
       "      <td>zhu</td>\n",
       "      <td>zhiyi</td>\n",
       "      <td>zzhu56@uic.edu</td>\n",
       "      <td>zzhu56@uic.edu</td>\n",
       "      <td>663098748</td>\n",
       "      <td>100.00</td>\n",
       "      <td>100.0</td>\n",
       "      <td>100.00</td>\n",
       "      <td>100.0</td>\n",
       "      <td>100</td>\n",
       "      <td>...</td>\n",
       "      <td>100.00</td>\n",
       "      <td>83.65</td>\n",
       "      <td>100.0</td>\n",
       "      <td>100.00</td>\n",
       "      <td>98.04</td>\n",
       "      <td>0.0</td>\n",
       "      <td>0.0</td>\n",
       "      <td>0.0</td>\n",
       "      <td>Shirley Holmes</td>\n",
       "      <td>IWNZ72228739714619</td>\n",
       "    </tr>\n",
       "    <tr>\n",
       "      <th>204</th>\n",
       "      <td>Zielinska</td>\n",
       "      <td>Wiktoria</td>\n",
       "      <td>wzieli2@uic.edu</td>\n",
       "      <td>wzieli2@uic.edu</td>\n",
       "      <td>675788560</td>\n",
       "      <td>100.00</td>\n",
       "      <td>100.0</td>\n",
       "      <td>100.00</td>\n",
       "      <td>100.0</td>\n",
       "      <td>100</td>\n",
       "      <td>...</td>\n",
       "      <td>100.00</td>\n",
       "      <td>94.97</td>\n",
       "      <td>100.0</td>\n",
       "      <td>100.00</td>\n",
       "      <td>100.00</td>\n",
       "      <td>0.0</td>\n",
       "      <td>0.0</td>\n",
       "      <td>0.0</td>\n",
       "      <td>Kenneth Stanley</td>\n",
       "      <td>HYTO17604476805211</td>\n",
       "    </tr>\n",
       "  </tbody>\n",
       "</table>\n",
       "<p>205 rows × 34 columns</p>\n",
       "</div>"
      ],
      "text/plain": [
       "      Last name First name             Primary email     School email  \\\n",
       "0    Abdelrahim      Fatin           fabdel7@uic.edu  fabdel7@uic.edu   \n",
       "1      Abdullah   Mohammed            mlnu21@uic.edu   mlnu21@uic.edu   \n",
       "2         Abebe    Natnael           nabebe3@uic.edu  nabebe3@uic.edu   \n",
       "3       agarwal       ishi           iagarw5@uic.edu  iagarw5@uic.edu   \n",
       "4         Ahmed      Wasay  ahmedwasay1000@gmail.com  wahmed9@uic.edu   \n",
       "..          ...        ...                       ...              ...   \n",
       "200        Yuen      Tyler            tyuen8@uic.edu   tyuen8@uic.edu   \n",
       "201   Zabkowski     Tomasz           tzabko1@uic.edu  tzabko1@uic.edu   \n",
       "202        Zhou   Michelle           mzhou43@uic.edu  mzhou43@uic.edu   \n",
       "203         zhu      zhiyi            zzhu56@uic.edu   zzhu56@uic.edu   \n",
       "204   Zielinska   Wiktoria           wzieli2@uic.edu  wzieli2@uic.edu   \n",
       "\n",
       "    Student ID  Activity 1 (49)  Activity 2 (28)  Activity 3 (77)  \\\n",
       "0    660956982           100.00            100.0           100.00   \n",
       "1    662305829            87.76            100.0           100.00   \n",
       "2    655021425            95.92            100.0            93.51   \n",
       "3    673172436           100.00            100.0           100.00   \n",
       "4    658638024           100.00            100.0           100.00   \n",
       "..         ...              ...              ...              ...   \n",
       "200  657214150           100.00            100.0           100.00   \n",
       "201  679836739           100.00            100.0            48.05   \n",
       "202  650940474           100.00            100.0           100.00   \n",
       "203  663098748           100.00            100.0           100.00   \n",
       "204  675788560           100.00            100.0           100.00   \n",
       "\n",
       "     Activity 4 (32)  Activity 5 (6)  ...  Activity 20 (47)  \\\n",
       "0              100.0             100  ...            100.00   \n",
       "1              100.0             100  ...            100.00   \n",
       "2              100.0             100  ...             95.74   \n",
       "3              100.0             100  ...            100.00   \n",
       "4              100.0             100  ...            100.00   \n",
       "..               ...             ...  ...               ...   \n",
       "200            100.0             100  ...            100.00   \n",
       "201            100.0             100  ...            100.00   \n",
       "202            100.0             100  ...            100.00   \n",
       "203            100.0             100  ...            100.00   \n",
       "204            100.0             100  ...            100.00   \n",
       "\n",
       "     Activity 21 (159)  Activity 22 (99)  Activity 23 (45)  Activity 24 (51)  \\\n",
       "0                83.65             100.0            100.00            100.00   \n",
       "1                93.71             100.0            100.00            100.00   \n",
       "2                82.39             100.0            100.00             96.08   \n",
       "3                86.79             100.0            100.00            100.00   \n",
       "4                96.23             100.0            100.00            100.00   \n",
       "..                 ...               ...               ...               ...   \n",
       "200              97.48             100.0              0.00            100.00   \n",
       "201              85.53             100.0            100.00            100.00   \n",
       "202              88.68             100.0             13.33            100.00   \n",
       "203              83.65             100.0            100.00             98.04   \n",
       "204              94.97             100.0            100.00            100.00   \n",
       "\n",
       "     Optional Activity 1 (21)  Optional Activity 2 (78)  \\\n",
       "0                         0.0                       0.0   \n",
       "1                         0.0                       0.0   \n",
       "2                         0.0                       0.0   \n",
       "3                         0.0                       0.0   \n",
       "4                         0.0                       0.0   \n",
       "..                        ...                       ...   \n",
       "200                       0.0                       0.0   \n",
       "201                       0.0                       0.0   \n",
       "202                       0.0                       0.0   \n",
       "203                       0.0                       0.0   \n",
       "204                       0.0                       0.0   \n",
       "\n",
       "     Optional Activity 3 (58)         Fake_First name     Fake_Student ID  \n",
       "0                         0.0            Ben Williams  KXVB73254113496858  \n",
       "1                         0.0           Timothy Duffy  PQTQ88668307767986  \n",
       "2                         0.0             Wendy Allen  ZGDE91932615306554  \n",
       "3                         0.0               Laura Cox  TPXH60677864764257  \n",
       "4                         0.0      Dr Colin Nicholson  QFRE28142312283800  \n",
       "..                        ...                     ...                 ...  \n",
       "200                       0.0  Lorraine Patel-Gilbert  TQRU76315289188115  \n",
       "201                       0.0           Owen Williams  HYCL36877357746385  \n",
       "202                       0.0          Shane Thompson  VBXM91398341094392  \n",
       "203                       0.0          Shirley Holmes  IWNZ72228739714619  \n",
       "204                       0.0         Kenneth Stanley  HYTO17604476805211  \n",
       "\n",
       "[205 rows x 34 columns]"
      ]
     },
     "execution_count": 4,
     "metadata": {},
     "output_type": "execute_result"
    }
   ],
   "source": [
    "from anonymizedf.anonymizedf import anonymize\n",
    "an1 = anonymize(topic1_scores)\n",
    "an2 = anonymize(topic1_all)\n",
    "an3 = anonymize(summary)\n",
    "\n",
    "an1.fake_names(\"First name\")\n",
    "an1.fake_ids(\"Student ID\")\n",
    "\n",
    "an2.fake_names(\"First name\")\n",
    "an2.fake_ids(\"Student ID\")\n",
    "\n",
    "an3.fake_names(\"First name\")\n",
    "an3.fake_ids(\"Student ID\")"
   ]
  },
  {
   "cell_type": "code",
   "execution_count": 5,
   "metadata": {},
   "outputs": [
    {
     "data": {
      "text/plain": [
       "Index(['Last name', 'First name', 'Primary email', 'School email',\n",
       "       'Student ID', 'Due date', 'Percent grade', 'Points earned (out of 49)',\n",
       "       'Participation total (43)', 'Challenge total (6)', 'Lab total (0)',\n",
       "       '1.1 - Participation (9)', '1.2 - Participation (9)',\n",
       "       '1.3 - Participation (9)', '1.4 - Participation (16)',\n",
       "       '1.3 - Challenge (6)', 'Fake_First name', 'Fake_Student ID'],\n",
       "      dtype='object')"
      ]
     },
     "execution_count": 5,
     "metadata": {},
     "output_type": "execute_result"
    }
   ],
   "source": [
    "topic1_scores.columns"
   ]
  },
  {
   "cell_type": "code",
   "execution_count": 6,
   "metadata": {},
   "outputs": [],
   "source": [
    "summary = summary[['Activity 1 (49)', 'Activity 2 (28)', 'Activity 3 (77)',\n",
    "       'Activity 4 (32)', 'Activity 5 (6)', 'Activity 6 (74)',\n",
    "       'Activity 7 (175)', 'Activity 8 (125)', 'Activity 9 (27)',\n",
    "       'Activity 10 (59)', 'Activity 11 (31)', 'Activity 12 (54)',\n",
    "       'Activity 13 (75)', 'Activity 14 (63)', 'Activity 15 (24)',\n",
    "       'Activity 16 (51)', 'Activity 17 (20)', 'Activity 18 (65)',\n",
    "       'Activity 19 (44)', 'Activity 20 (47)', 'Activity 21 (159)',\n",
    "       'Activity 22 (99)', 'Activity 23 (45)', 'Activity 24 (51)',\n",
    "       'Optional Activity 1 (21)', 'Optional Activity 2 (78)',\n",
    "       'Optional Activity 3 (58)', 'Fake_First name', 'Fake_Student ID']]\n",
    "\n",
    "topic1_all = topic1_all[['Total (49)', 'Participation total (43)',\n",
    "       'Challenge total (6)', 'Lab total (0)', '1.1 - Participation (9)',\n",
    "       '1.2 - Participation (9)', '1.3 - Participation (9)',\n",
    "       '1.4 - Participation (16)', '1.1 - Challenge (0)',\n",
    "       '1.2 - Challenge (0)', '1.3 - Challenge (6)', '1.4 - Challenge (0)',\n",
    "       '1.1 - Lab (0)', '1.2 - Lab (0)', '1.3 - Lab (0)', '1.4 - Lab (0)',\n",
    "       'Total time (min)', 'Participation total time (min)',\n",
    "       'Challenge total time (min)', 'Lab total time (min)',\n",
    "       '1.1 - Participation time (min)', '1.2 - Participation time (min)',\n",
    "       '1.3 - Participation time (min)', '1.4 - Participation time (min)',\n",
    "       '1.1 - Challenge time (min)', '1.2 - Challenge time (min)',\n",
    "       '1.3 - Challenge time (min)', '1.4 - Challenge time (min)',\n",
    "       '1.1 - Lab time (min)', '1.2 - Lab time (min)', '1.3 - Lab time (min)',\n",
    "       '1.4 - Lab time (min)', 'Fake_First name', 'Fake_Student ID']]\n",
    "\n",
    "topic1_scores = topic1_scores[['Due date', 'Percent grade', 'Points earned (out of 49)',\n",
    "       'Participation total (43)', 'Challenge total (6)', 'Lab total (0)',\n",
    "       '1.1 - Participation (9)', '1.2 - Participation (9)',\n",
    "       '1.3 - Participation (9)', '1.4 - Participation (16)',\n",
    "       '1.3 - Challenge (6)', 'Fake_First name', 'Fake_Student ID']]"
   ]
  },
  {
   "cell_type": "code",
   "execution_count": 7,
   "metadata": {},
   "outputs": [
    {
     "data": {
      "text/plain": [
       "Due date                       1\n",
       "Percent grade                 10\n",
       "Points earned (out of 49)     10\n",
       "Participation total (43)       6\n",
       "Challenge total (6)            5\n",
       "Lab total (0)                  1\n",
       "1.1 - Participation (9)        2\n",
       "1.2 - Participation (9)        2\n",
       "1.3 - Participation (9)        2\n",
       "1.4 - Participation (16)       4\n",
       "1.3 - Challenge (6)            5\n",
       "Fake_First name              185\n",
       "Fake_Student ID              194\n",
       "dtype: int64"
      ]
     },
     "execution_count": 7,
     "metadata": {},
     "output_type": "execute_result"
    }
   ],
   "source": [
    "# topic1_scores.head()\n",
    "# topic1_scores.info()\n",
    "# topic1_scores['Lab total (0)'].value_counts()\n",
    "# topic1_scores.isnull().sum()\n",
    "# (topic1_scores.isnull().sum()/(len(topic1_scores)))*100\n",
    "topic1_scores.nunique()"
   ]
  },
  {
   "cell_type": "code",
   "execution_count": 8,
   "metadata": {},
   "outputs": [],
   "source": [
    "topic1_scores = topic1_scores.drop(columns=['Lab total (0)', 'Due date'])"
   ]
  },
  {
   "cell_type": "code",
   "execution_count": 9,
   "metadata": {},
   "outputs": [
    {
     "data": {
      "text/html": [
       "<div>\n",
       "<style scoped>\n",
       "    .dataframe tbody tr th:only-of-type {\n",
       "        vertical-align: middle;\n",
       "    }\n",
       "\n",
       "    .dataframe tbody tr th {\n",
       "        vertical-align: top;\n",
       "    }\n",
       "\n",
       "    .dataframe thead th {\n",
       "        text-align: right;\n",
       "    }\n",
       "</style>\n",
       "<table border=\"1\" class=\"dataframe\">\n",
       "  <thead>\n",
       "    <tr style=\"text-align: right;\">\n",
       "      <th></th>\n",
       "      <th>Percent grade</th>\n",
       "      <th>Points earned (out of 49)</th>\n",
       "      <th>Participation total (43)</th>\n",
       "      <th>Challenge total (6)</th>\n",
       "      <th>1.1 - Participation (9)</th>\n",
       "      <th>1.2 - Participation (9)</th>\n",
       "      <th>1.3 - Participation (9)</th>\n",
       "      <th>1.4 - Participation (16)</th>\n",
       "      <th>1.3 - Challenge (6)</th>\n",
       "      <th>Fake_First name</th>\n",
       "      <th>Fake_Student ID</th>\n",
       "    </tr>\n",
       "  </thead>\n",
       "  <tbody>\n",
       "    <tr>\n",
       "      <th>0</th>\n",
       "      <td>100.00</td>\n",
       "      <td>49</td>\n",
       "      <td>100.0</td>\n",
       "      <td>100.00</td>\n",
       "      <td>100.0</td>\n",
       "      <td>100.0</td>\n",
       "      <td>100.0</td>\n",
       "      <td>100.0</td>\n",
       "      <td>100.00</td>\n",
       "      <td>Mr Stephen James</td>\n",
       "      <td>YDAI36631867248970</td>\n",
       "    </tr>\n",
       "    <tr>\n",
       "      <th>1</th>\n",
       "      <td>87.76</td>\n",
       "      <td>43</td>\n",
       "      <td>100.0</td>\n",
       "      <td>0.00</td>\n",
       "      <td>100.0</td>\n",
       "      <td>100.0</td>\n",
       "      <td>100.0</td>\n",
       "      <td>100.0</td>\n",
       "      <td>0.00</td>\n",
       "      <td>Joanne Robinson</td>\n",
       "      <td>KODL42967584996136</td>\n",
       "    </tr>\n",
       "    <tr>\n",
       "      <th>2</th>\n",
       "      <td>95.92</td>\n",
       "      <td>47</td>\n",
       "      <td>100.0</td>\n",
       "      <td>66.67</td>\n",
       "      <td>100.0</td>\n",
       "      <td>100.0</td>\n",
       "      <td>100.0</td>\n",
       "      <td>100.0</td>\n",
       "      <td>66.67</td>\n",
       "      <td>Aaron Parkinson</td>\n",
       "      <td>OEKY72308213837512</td>\n",
       "    </tr>\n",
       "    <tr>\n",
       "      <th>3</th>\n",
       "      <td>100.00</td>\n",
       "      <td>49</td>\n",
       "      <td>100.0</td>\n",
       "      <td>100.00</td>\n",
       "      <td>100.0</td>\n",
       "      <td>100.0</td>\n",
       "      <td>100.0</td>\n",
       "      <td>100.0</td>\n",
       "      <td>100.00</td>\n",
       "      <td>Elliot Carter</td>\n",
       "      <td>XTGZ32557471767042</td>\n",
       "    </tr>\n",
       "    <tr>\n",
       "      <th>4</th>\n",
       "      <td>100.00</td>\n",
       "      <td>49</td>\n",
       "      <td>100.0</td>\n",
       "      <td>100.00</td>\n",
       "      <td>100.0</td>\n",
       "      <td>100.0</td>\n",
       "      <td>100.0</td>\n",
       "      <td>100.0</td>\n",
       "      <td>100.00</td>\n",
       "      <td>Damien Reed</td>\n",
       "      <td>IHKM56222598060660</td>\n",
       "    </tr>\n",
       "  </tbody>\n",
       "</table>\n",
       "</div>"
      ],
      "text/plain": [
       "   Percent grade  Points earned (out of 49)  Participation total (43)  \\\n",
       "0         100.00                         49                     100.0   \n",
       "1          87.76                         43                     100.0   \n",
       "2          95.92                         47                     100.0   \n",
       "3         100.00                         49                     100.0   \n",
       "4         100.00                         49                     100.0   \n",
       "\n",
       "   Challenge total (6)  1.1 - Participation (9)  1.2 - Participation (9)  \\\n",
       "0               100.00                    100.0                    100.0   \n",
       "1                 0.00                    100.0                    100.0   \n",
       "2                66.67                    100.0                    100.0   \n",
       "3               100.00                    100.0                    100.0   \n",
       "4               100.00                    100.0                    100.0   \n",
       "\n",
       "   1.3 - Participation (9)  1.4 - Participation (16)  1.3 - Challenge (6)  \\\n",
       "0                    100.0                     100.0               100.00   \n",
       "1                    100.0                     100.0                 0.00   \n",
       "2                    100.0                     100.0                66.67   \n",
       "3                    100.0                     100.0               100.00   \n",
       "4                    100.0                     100.0               100.00   \n",
       "\n",
       "    Fake_First name     Fake_Student ID  \n",
       "0  Mr Stephen James  YDAI36631867248970  \n",
       "1   Joanne Robinson  KODL42967584996136  \n",
       "2   Aaron Parkinson  OEKY72308213837512  \n",
       "3     Elliot Carter  XTGZ32557471767042  \n",
       "4       Damien Reed  IHKM56222598060660  "
      ]
     },
     "execution_count": 9,
     "metadata": {},
     "output_type": "execute_result"
    }
   ],
   "source": [
    "# topic1_scores['Due date'] = topic1_scores['Due date'].str.replace(' CST', ' -06:00')\n",
    "\n",
    "# # Convert to datetime\n",
    "# topic1_scores['Due date'] = pd.to_datetime(topic1_scores['Due date'], format='%Y-%m-%d %I:%M %p %z')\n",
    "\n",
    "topic1_scores.head()"
   ]
  },
  {
   "cell_type": "code",
   "execution_count": 10,
   "metadata": {},
   "outputs": [
    {
     "data": {
      "image/png": "[encoded data removed]",
      "text/plain": [
       "<Figure size 576x288 with 1 Axes>"
      ]
     },
     "metadata": {
      "needs_background": "light"
     },
     "output_type": "display_data"
    },
    {
     "data": {
      "image/png": "[encoded data removed]",
      "text/plain": [
       "<Figure size 576x288 with 1 Axes>"
      ]
     },
     "metadata": {
      "needs_background": "light"
     },
     "output_type": "display_data"
    },
    {
     "data": {
      "image/png": "[encoded data removed]",
      "text/plain": [
       "<Figure size 576x288 with 1 Axes>"
      ]
     },
     "metadata": {
      "needs_background": "light"
     },
     "output_type": "display_data"
    },
    {
     "data": {
      "image/png": "[encoded data removed]",
      "text/plain": [
       "<Figure size 576x288 with 1 Axes>"
      ]
     },
     "metadata": {
      "needs_background": "light"
     },
     "output_type": "display_data"
    },
    {
     "data": {
      "image/png": "[encoded data removed]",
      "text/plain": [
       "<Figure size 576x288 with 1 Axes>"
      ]
     },
     "metadata": {
      "needs_background": "light"
     },
     "output_type": "display_data"
    },
    {
     "data": {
      "image/png": "[encoded data removed]",
      "text/plain": [
       "<Figure size 576x288 with 1 Axes>"
      ]
     },
     "metadata": {
      "needs_background": "light"
     },
     "output_type": "display_data"
    },
    {
     "data": {
      "image/png": "[encoded data removed]",
      "text/plain": [
       "<Figure size 576x288 with 1 Axes>"
      ]
     },
     "metadata": {
      "needs_background": "light"
     },
     "output_type": "display_data"
    },
    {
     "data": {
      "image/png": "[encoded data removed]",
      "text/plain": [
       "<Figure size 576x288 with 1 Axes>"
      ]
     },
     "metadata": {
      "needs_background": "light"
     },
     "output_type": "display_data"
    }
   ],
   "source": [
    "# Numeric columns\n",
    "numeric_columns = topic1_scores.select_dtypes(include=[int, float]).columns\n",
    "\n",
    "for col in numeric_columns:\n",
    "    plt.figure(figsize=(8, 4))\n",
    "    plt.hist(topic1_scores[col], bins=10, edgecolor='k')\n",
    "    plt.title(f'Histogram for {col}')\n",
    "    plt.xlabel(col)\n",
    "    plt.ylabel('Frequency')\n",
    "    plt.show()\n",
    "\n",
    "# for col in numeric_columns:\n",
    "#     plt.figure(figsize=(8, 4))\n",
    "#     topic1_scores.boxplot(column=col)\n",
    "#     plt.title(f'Box Plot for {col}')\n",
    "#     plt.ylabel('Value')\n",
    "#     plt.show()\n"
   ]
  },
  {
   "cell_type": "code",
   "execution_count": 11,
   "metadata": {},
   "outputs": [
    {
     "data": {
      "text/plain": [
       "Total (49)                         13\n",
       "Participation total (43)            8\n",
       "Challenge total (6)                 6\n",
       "Lab total (0)                       1\n",
       "1.1 - Participation (9)             4\n",
       "1.2 - Participation (9)             4\n",
       "1.3 - Participation (9)             3\n",
       "1.4 - Participation (16)            6\n",
       "1.1 - Challenge (0)                 0\n",
       "1.2 - Challenge (0)                 0\n",
       "1.3 - Challenge (6)                 6\n",
       "1.4 - Challenge (0)                 0\n",
       "1.1 - Lab (0)                       0\n",
       "1.2 - Lab (0)                       0\n",
       "1.3 - Lab (0)                       0\n",
       "1.4 - Lab (0)                       0\n",
       "Total time (min)                   64\n",
       "Participation total time (min)     61\n",
       "Challenge total time (min)         15\n",
       "Lab total time (min)                1\n",
       "1.1 - Participation time (min)     25\n",
       "1.2 - Participation time (min)     24\n",
       "1.3 - Participation time (min)     20\n",
       "1.4 - Participation time (min)     28\n",
       "1.1 - Challenge time (min)          1\n",
       "1.2 - Challenge time (min)          1\n",
       "1.3 - Challenge time (min)         15\n",
       "1.4 - Challenge time (min)          1\n",
       "1.1 - Lab time (min)                1\n",
       "1.2 - Lab time (min)                1\n",
       "1.3 - Lab time (min)                1\n",
       "1.4 - Lab time (min)                1\n",
       "Fake_First name                   184\n",
       "Fake_Student ID                   194\n",
       "dtype: int64"
      ]
     },
     "execution_count": 11,
     "metadata": {},
     "output_type": "execute_result"
    }
   ],
   "source": [
    "# topic1_all.info()\n",
    "# topic1_all.isnull().sum()\n",
    "topic1_all.nunique()"
   ]
  },
  {
   "cell_type": "code",
   "execution_count": 13,
   "metadata": {},
   "outputs": [],
   "source": [
    "topic1_all = topic1_all.drop(columns=['Lab total (0)', \n",
    "                                      '1.1 - Challenge (0)',\n",
    "                                      '1.2 - Challenge (0)',\n",
    "                                      '1.4 - Challenge (0)',\n",
    "                                      '1.1 - Lab (0)',\n",
    "                                      '1.2 - Lab (0)', \n",
    "                                      '1.3 - Lab (0)',\n",
    "                                      '1.4 - Lab (0)',\n",
    "                                      'Lab total time (min)',\n",
    "                                      '1.1 - Challenge time (min)',\n",
    "                                      '1.2 - Challenge time (min)',\n",
    "                                      '1.4 - Challenge time (min)',\n",
    "                                      '1.1 - Lab time (min)',\n",
    "                                      '1.2 - Lab time (min)',\n",
    "                                      '1.3 - Lab time (min)',\n",
    "                                      '1.4 - Lab time (min)'])"
   ]
  },
  {
   "cell_type": "code",
   "execution_count": 16,
   "metadata": {},
   "outputs": [
    {
     "data": {
      "image/png": "[encoded data removed]",
      "text/plain": [
       "<Figure size 576x288 with 1 Axes>"
      ]
     },
     "metadata": {
      "needs_background": "light"
     },
     "output_type": "display_data"
    },
    {
     "data": {
      "image/png": "[encoded data removed]",
      "text/plain": [
       "<Figure size 576x288 with 1 Axes>"
      ]
     },
     "metadata": {
      "needs_background": "light"
     },
     "output_type": "display_data"
    },
    {
     "data": {
      "image/png": "[encoded data removed]",
      "text/plain": [
       "<Figure size 576x288 with 1 Axes>"
      ]
     },
     "metadata": {
      "needs_background": "light"
     },
     "output_type": "display_data"
    },
    {
     "data": {
      "image/png": "[encoded data removed]",
      "text/plain": [
       "<Figure size 576x288 with 1 Axes>"
      ]
     },
     "metadata": {
      "needs_background": "light"
     },
     "output_type": "display_data"
    },
    {
     "data": {
      "image/png": "[encoded data removed]",
      "text/plain": [
       "<Figure size 576x288 with 1 Axes>"
      ]
     },
     "metadata": {
      "needs_background": "light"
     },
     "output_type": "display_data"
    },
    {
     "data": {
      "image/png": "[encoded data removed]",
      "text/plain": [
       "<Figure size 576x288 with 1 Axes>"
      ]
     },
     "metadata": {
      "needs_background": "light"
     },
     "output_type": "display_data"
    },
    {
     "data": {
      "image/png": "[encoded data removed]",
      "text/plain": [
       "<Figure size 576x288 with 1 Axes>"
      ]
     },
     "metadata": {
      "needs_background": "light"
     },
     "output_type": "display_data"
    },
    {
     "data": {
      "image/png": "[encoded data removed]",
      "text/plain": [
       "<Figure size 576x288 with 1 Axes>"
      ]
     },
     "metadata": {
      "needs_background": "light"
     },
     "output_type": "display_data"
    }
   ],
   "source": [
    "numeric_columns = topic1_all.select_dtypes(include=[int, float]).columns\n",
    "\n",
    "for col in numeric_columns:\n",
    "    plt.figure(figsize=(8, 4))\n",
    "    plt.hist(topic1_all[col], bins=10, edgecolor='k')\n",
    "    plt.title(f'Histogram for {col}')\n",
    "    plt.xlabel(col)\n",
    "    plt.ylabel('Frequency')\n",
    "    plt.show()"
   ]
  },
  {
   "cell_type": "code",
   "execution_count": 19,
   "metadata": {},
   "outputs": [
    {
     "data": {
      "text/plain": [
       "Activity 1 (49)             0.0\n",
       "Activity 2 (28)             0.0\n",
       "Activity 3 (77)             0.0\n",
       "Activity 4 (32)             0.0\n",
       "Activity 5 (6)              0.0\n",
       "Activity 6 (74)             0.0\n",
       "Activity 7 (175)            0.0\n",
       "Activity 8 (125)            0.0\n",
       "Activity 9 (27)             0.0\n",
       "Activity 10 (59)            0.0\n",
       "Activity 11 (31)            0.0\n",
       "Activity 12 (54)            0.0\n",
       "Activity 13 (75)            0.0\n",
       "Activity 14 (63)            0.0\n",
       "Activity 15 (24)            0.0\n",
       "Activity 16 (51)            0.0\n",
       "Activity 17 (20)            0.0\n",
       "Activity 18 (65)            0.0\n",
       "Activity 19 (44)            0.0\n",
       "Activity 20 (47)            0.0\n",
       "Activity 21 (159)           0.0\n",
       "Activity 22 (99)            0.0\n",
       "Activity 23 (45)            0.0\n",
       "Activity 24 (51)            0.0\n",
       "Optional Activity 1 (21)    0.0\n",
       "Optional Activity 2 (78)    0.0\n",
       "Optional Activity 3 (58)    0.0\n",
       "Fake_First name             0.0\n",
       "Fake_Student ID             0.0\n",
       "dtype: float64"
      ]
     },
     "execution_count": 19,
     "metadata": {},
     "output_type": "execute_result"
    }
   ],
   "source": [
    "# summary.nunique()\n",
    "(summary.isnull().sum()/(len(summary)))*100\n"
   ]
  },
  {
   "cell_type": "code",
   "execution_count": 24,
   "metadata": {},
   "outputs": [],
   "source": [
    "summary.to_csv('summary.csv', index=False)"
   ]
  },
  {
   "cell_type": "code",
   "execution_count": 25,
   "metadata": {},
   "outputs": [],
   "source": [
    "topic1_all.to_csv('topic1_all.csv', index=False)\n",
    "topic1_scores.to_csv('topic1_scores.csv', index=False)"
   ]
  },
  {
   "cell_type": "markdown",
   "metadata": {},
   "source": [
    "References:\n",
    "|\n",
    "1. Data Anonymization/Hashing - https://pypi.org/project/anonymizedf/,\n",
    " https://stackoverflow.com/questions/28674157/convert-unique-numbers-to-md5-hash-using-pandas"
   ]
  }
 ],
 "metadata": {
  "kernelspec": {
   "display_name": "base",
   "language": "python",
   "name": "python3"
  },
  "language_info": {
   "codemirror_mode": {
    "name": "ipython",
    "version": 3
   },
   "file_extension": ".py",
   "mimetype": "text/x-python",
   "name": "python",
   "nbconvert_exporter": "python",
   "pygments_lexer": "ipython3",
   "version": "3.8.8"
  },
  "orig_nbformat": 4
 },
 "nbformat": 4,
 "nbformat_minor": 2
}
